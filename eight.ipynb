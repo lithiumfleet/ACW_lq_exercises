{
 "cells": [
  {
   "cell_type": "code",
   "execution_count": 9,
   "metadata": {},
   "outputs": [],
   "source": [
    "from numpy.random import randint\n",
    "from numpy import cos, sin, pi\n",
    "from math import floor\n",
    "import numpy as np\n",
    "import matplotlib.pyplot as plt\n",
    "from PIL import Image"
   ]
  },
  {
   "cell_type": "code",
   "execution_count": 10,
   "metadata": {},
   "outputs": [],
   "source": [
    "cimg = Image.open(r'C:\\Users\\Lithium\\Pictures\\Screenshots\\屏幕截图 2023-12-20 153840.png')#randint(0,256,(300,300))"
   ]
  },
  {
   "cell_type": "code",
   "execution_count": 11,
   "metadata": {},
   "outputs": [],
   "source": [
    "m = cimg.convert(\"L\").resize([480,300])"
   ]
  },
  {
   "cell_type": "code",
   "execution_count": 12,
   "metadata": {},
   "outputs": [
    {
     "data": {
      "text/plain": [
       "160"
      ]
     },
     "execution_count": 12,
     "metadata": {},
     "output_type": "execute_result"
    }
   ],
   "source": [
    "m = np.asarray(m)\n",
    "m[3,4]"
   ]
  },
  {
   "cell_type": "code",
   "execution_count": 218,
   "metadata": {},
   "outputs": [
    {
     "data": {
      "text/plain": [
       "[-1.0,\n",
       " 2,\n",
       " -4,\n",
       " 8,\n",
       " -16,\n",
       " 32,\n",
       " -64,\n",
       " 128,\n",
       " -256,\n",
       " 512,\n",
       " -1024,\n",
       " 2048,\n",
       " -4096,\n",
       " 8192,\n",
       " -16384,\n",
       " 32768]"
      ]
     },
     "execution_count": 218,
     "metadata": {},
     "output_type": "execute_result"
    }
   ],
   "source": [
    "\n",
    "dots = 16\n",
    "knr = 8\n",
    "list_dx = np.floor(knr*np.array([cos(i*2*pi/dots) for i in range(dots)]))\n",
    "list_dy = np.floor(knr*np.array([sin(i*2*pi/dots) for i in range(dots)]))\n",
    "kerlist = [((-1)**(i-1))*(2**i) for i in range(dots)]\n",
    "limits = -1000\n",
    "# scale = sum(abs(i) for i in kerlist) // (dots)\n",
    "kerlist"
   ]
  },
  {
   "cell_type": "code",
   "execution_count": 219,
   "metadata": {},
   "outputs": [],
   "source": [
    "def get_lists(x,y,img:np.ndarray):\n",
    "    m, n = img.shape\n",
    "    imglist = [0]*dots\n",
    "    d = 0\n",
    "    for dx,dy in zip(list_dx,list_dy):\n",
    "        nx, ny = floor(x+knr*dx), floor(y+knr*dy)\n",
    "        if nx<0 or ny<0 or nx>=m or ny>=n:\n",
    "            imglist[d] = -1\n",
    "        else:\n",
    "            imglist[d] = img[nx][ny]\n",
    "        d += 1\n",
    "    return imglist"
   ]
  },
  {
   "cell_type": "code",
   "execution_count": 220,
   "metadata": {},
   "outputs": [],
   "source": [
    "\n",
    "def process(img:np.ndarray):\n",
    "    f_map = np.zeros(img.shape)\n",
    "    m, n = img.shape\n",
    "\n",
    "    i = 0\n",
    "    while i < m:\n",
    "        j = 0\n",
    "        while j < n:\n",
    "            imglist = get_lists(i,j,img)\n",
    "            val = np.dot(imglist,kerlist)\n",
    "            if val > limits:\n",
    "                f_map[i][j] = 250\n",
    "            else:\n",
    "                f_map[i][j] = 5\n",
    "            j += 1\n",
    "        i += 1\n",
    "    return f_map.astype(np.uint8)\n"
   ]
  },
  {
   "cell_type": "code",
   "execution_count": 221,
   "metadata": {},
   "outputs": [],
   "source": [
    "f_map = process(m)"
   ]
  },
  {
   "cell_type": "code",
   "execution_count": 222,
   "metadata": {},
   "outputs": [
    {
     "data": {
      "text/plain": [
       "array([[ 17,  49,  83, ...,  91,  63,  58],\n",
       "       [ 50, 167, 237, ..., 240, 198, 141],\n",
       "       [142, 247, 245, ..., 244, 249, 192],\n",
       "       ...,\n",
       "       [107,  97,  84, ..., 116, 118, 103],\n",
       "       [ 58,  86,  86, ..., 116, 112,  81],\n",
       "       [ 21,  41,  64, ...,  88,  85,  57]], dtype=uint8)"
      ]
     },
     "execution_count": 222,
     "metadata": {},
     "output_type": "execute_result"
    }
   ],
   "source": [
    "m"
   ]
  },
  {
   "cell_type": "code",
   "execution_count": 223,
   "metadata": {},
   "outputs": [
    {
     "data": {
      "text/plain": [
       "array([[  5,   5,   5, ..., 250, 250, 250],\n",
       "       [  5,   5,   5, ..., 250, 250, 250],\n",
       "       [  5,   5,   5, ..., 250, 250, 250],\n",
       "       ...,\n",
       "       [  5,   5,   5, ...,   5,   5,   5],\n",
       "       [  5,   5,   5, ...,   5,   5,   5],\n",
       "       [  5,   5,   5, ...,   5,   5,   5]], dtype=uint8)"
      ]
     },
     "execution_count": 223,
     "metadata": {},
     "output_type": "execute_result"
    }
   ],
   "source": [
    "f_map"
   ]
  },
  {
   "cell_type": "code",
   "execution_count": 224,
   "metadata": {},
   "outputs": [],
   "source": [
    "Image.fromarray(f_map).show()"
   ]
  },
  {
   "cell_type": "code",
   "execution_count": null,
   "metadata": {},
   "outputs": [],
   "source": []
  },
  {
   "cell_type": "code",
   "execution_count": null,
   "metadata": {},
   "outputs": [],
   "source": []
  },
  {
   "cell_type": "code",
   "execution_count": null,
   "metadata": {},
   "outputs": [],
   "source": []
  }
 ],
 "metadata": {
  "kernelspec": {
   "display_name": "Python 3",
   "language": "python",
   "name": "python3"
  },
  "language_info": {
   "codemirror_mode": {
    "name": "ipython",
    "version": 3
   },
   "file_extension": ".py",
   "mimetype": "text/x-python",
   "name": "python",
   "nbconvert_exporter": "python",
   "pygments_lexer": "ipython3",
   "version": "0.0.0"
  }
 },
 "nbformat": 4,
 "nbformat_minor": 2
}
